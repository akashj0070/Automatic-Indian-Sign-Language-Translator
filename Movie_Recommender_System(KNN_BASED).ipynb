{
  "nbformat": 4,
  "nbformat_minor": 0,
  "metadata": {
    "colab": {
      "name": "Recommender System(KNN BASED).ipynb",
      "provenance": [],
      "collapsed_sections": [],
      "include_colab_link": true
    },
    "kernelspec": {
      "name": "python3",
      "display_name": "Python 3"
    }
  },
  "cells": [
    {
      "cell_type": "markdown",
      "metadata": {
        "id": "view-in-github",
        "colab_type": "text"
      },
      "source": [
        "<a href=\"https://colab.research.google.com/github/akashj0070/Automatic-Indian-Sign-Language-Translator/blob/master/Movie_Recommender_System(KNN_BASED).ipynb\" target=\"_parent\"><img src=\"https://colab.research.google.com/assets/colab-badge.svg\" alt=\"Open In Colab\"/></a>"
      ]
    },
    {
      "cell_type": "code",
      "metadata": {
        "id": "99B4oRnNv6w4",
        "colab_type": "code",
        "outputId": "b6b29d77-b315-4103-eecf-57c09bfdf81d",
        "colab": {
          "base_uri": "https://localhost:8080/",
          "height": 301
        }
      },
      "source": [
        "!pip install surprise"
      ],
      "execution_count": 3,
      "outputs": [
        {
          "output_type": "stream",
          "text": [
            
          ],
          "name": "stdout"
        }
      ]
    },
    {
      "cell_type": "code",
      "metadata": {
        "id": "12v2K2I8v7q5",
        "colab_type": "code",
        "outputId": "4238a622-66c6-4561-8ca7-89c285e94565",
        "colab": {
          "base_uri": "https://localhost:8080/",
          "height": 230
        }
      },
      "source": [
        "from surprise import KNNBasic\n",
        "from surprise import Dataset\n",
        "from surprise import Reader\n",
        "import pandas as pd\n",
        "movies =['star wars','star wars','got','got','south park', 'star wars', 'harry potter', 'harry potter']\n",
        "rating =[1,5,1,3,5,3,5,5]\n",
        "users =['kim','tim','nim','sim','dim','lim','mim','bim',]\n",
        "rating_dict={'user':users,'item':movies, 'rating':rating}\n",
        "def FriendRecommender(user):\n",
        "  df=pd.DataFrame(rating_dict)\n",
        "  reader=Reader(rating_scale=(1,5))\n",
        "  data=Dataset.load_from_df(df[['user','item','rating']], reader)\n",
        "  trainset=data.build_full_trainset()\n",
        "  sim_options={'name':'cosine',\n",
        "               'user_based':True}\n",
        "  algo=KNNBasic(sim_options)\n",
        "  algo.fit(trainset)\n",
        "  uid=trainset.to_inner_uid(user)\n",
        "  pred=algo.get_neighbors(uid,5)\n",
        "  for i in pred:\n",
        "    print(trainset.to_raw_uid(i))\n",
        "    print(movies[i])\n",
        "\n",
        "FriendRecommender('kim')"
      ],
      "execution_count": 16,
      "outputs": [
        {
          "output_type": "stream",
          "text": [
            "Computing the msd similarity matrix...\n",
            "Done computing similarity matrix.\n",
            "lim\n",
            "star wars\n",
            "tim\n",
            "star wars\n",
            "nim\n",
            "got\n",
            "sim\n",
            "got\n",
            "dim\n",
            "south park\n"
          ],
          "name": "stdout"
        }
      ]
    }
  ]
}
